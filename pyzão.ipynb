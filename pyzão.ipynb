{
  "cells": [
    {
      "cell_type": "markdown",
      "metadata": {
        "id": "view-in-github",
        "colab_type": "text"
      },
      "source": [
        "<a href=\"https://colab.research.google.com/github/aquimfrsilva/Backlog/blob/main/pyz%C3%A3o.ipynb\" target=\"_parent\"><img src=\"https://colab.research.google.com/assets/colab-badge.svg\" alt=\"Open In Colab\"/></a>"
      ]
    },
    {
      "cell_type": "code",
      "execution_count": null,
      "metadata": {
        "id": "4MLZ2XpdedEz"
      },
      "outputs": [],
      "source": [
        "aniversario = 8\n",
        "numero = 0\n",
        "\n",
        "while numero <= 100:\n",
        "    multiplicando = aniversario * numero\n",
        "\n",
        "    print(f\"\\n{aniversario} x {numero} é igual a {multiplicando}\")\n",
        "    numero+= 1\n",
        "    if multiplicando > 1000:\n",
        "        print(f\"\\no numero {multiplicando} é maior que 1000\")\n",
        "\n"
      ]
    }
  ],
  "metadata": {
    "colab": {
      "provenance": [],
      "authorship_tag": "ABX9TyN5Fx2he0gNmIwSf68Q3a0C",
      "include_colab_link": true
    },
    "kernelspec": {
      "display_name": "Python 3",
      "name": "python3"
    },
    "language_info": {
      "name": "python"
    }
  },
  "nbformat": 4,
  "nbformat_minor": 0
}