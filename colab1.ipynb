{
  "nbformat": 4,
  "nbformat_minor": 0,
  "metadata": {
    "colab": {
      "provenance": [],
      "toc_visible": true,
      "authorship_tag": "ABX9TyPirV2cHAxmeIZeqav4diRf",
      "include_colab_link": true
    },
    "kernelspec": {
      "name": "python3",
      "display_name": "Python 3"
    },
    "language_info": {
      "name": "python"
    }
  },
  "cells": [
    {
      "cell_type": "markdown",
      "metadata": {
        "id": "view-in-github",
        "colab_type": "text"
      },
      "source": [
        "<a href=\"https://colab.research.google.com/github/aquimfrsilva/Backlog/blob/main/colab1.ipynb\" target=\"_parent\"><img src=\"https://colab.research.google.com/assets/colab-badge.svg\" alt=\"Open In Colab\"/></a>"
      ]
    },
    {
      "cell_type": "code",
      "execution_count": 2,
      "metadata": {
        "colab": {
          "base_uri": "https://localhost:8080/"
        },
        "id": "IbTqjCQAD6MX",
        "outputId": "073ece6e-37db-4776-92cf-a3b0b7968271"
      },
      "outputs": [
        {
          "output_type": "stream",
          "name": "stdout",
          "text": [
            "digite seu nome: joaquim\n",
            "digite sua idade: 17\n",
            "digite seu cpf: 105\n",
            "digite o número do dia: 22\n",
            "digite o local: escola\n",
            "\n",
            "analisando informações....\n",
            "\n",
            "dados coletados: seu nome é: joaquim\n",
            "sua idade: 17\n",
            "seu cpf: 105.0\n",
            "hoje é dia: 22\n",
            "sua localização atual é: escola\n"
          ]
        }
      ],
      "source": [
        "nome = str(input(\"digite seu nome: \"))\n",
        "idade = int(input(\"digite sua idade: \"))\n",
        "cpf = float(input(\"digite seu cpf: \"))\n",
        "dia = int(input(\"digite o número do dia: \"))\n",
        "local = str(input(\"digite o local: \"))\n",
        "\n",
        "print(\"\\nanalisando informações....\")\n",
        "\n",
        "print(f\"\\ndados coletados: seu nome é: {nome}\")\n",
        "print(f\"sua idade: {idade}\")\n",
        "print(f\"seu cpf: {cpf}\")\n",
        "print(f\"hoje é dia: {dia}\")\n",
        "print(f\"sua localização atual é: {local}\")"
      ]
    }
  ]
}